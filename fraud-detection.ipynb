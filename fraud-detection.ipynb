{
 "cells": [
  {
   "cell_type": "code",
   "execution_count": 1,
   "id": "0518b5aa",
   "metadata": {
    "_cell_guid": "b1076dfc-b9ad-4769-8c92-a6c4dae69d19",
    "_uuid": "8f2839f25d086af736a60e9eeb907d3b93b6e0e5",
    "execution": {
     "iopub.execute_input": "2022-06-11T16:17:36.389910Z",
     "iopub.status.busy": "2022-06-11T16:17:36.389067Z",
     "iopub.status.idle": "2022-06-11T16:17:38.335209Z",
     "shell.execute_reply": "2022-06-11T16:17:38.334090Z"
    },
    "papermill": {
     "duration": 1.961926,
     "end_time": "2022-06-11T16:17:38.338333",
     "exception": false,
     "start_time": "2022-06-11T16:17:36.376407",
     "status": "completed"
    },
    "tags": []
   },
   "outputs": [],
   "source": [
    "import numpy as np\n",
    "import pandas as pd\n",
    "import matplotlib.pyplot as plt\n",
    "import seaborn as sns\n",
    "from collections import Counter\n",
    "\n",
    "#Libraries for scaling and splitting the data\n",
    "from sklearn.model_selection import train_test_split\n",
    "from sklearn.preprocessing import StandardScaler\n",
    "#Model libraries\n",
    "from sklearn.linear_model import LogisticRegression\n",
    "from sklearn.model_selection import GridSearchCV\n",
    "# Support Vector Machine classification algorithm\n",
    "from sklearn.svm import SVC\n",
    "# Decision Tree classification algorithm\n",
    "from sklearn.tree import DecisionTreeClassifier\n",
    "# K Nearest Neighbors classification algorithm\n",
    "from sklearn.neighbors import KNeighborsClassifier\n",
    "from sklearn.neural_network import MLPClassifier\n",
    "#Libraries for handling imbalanced data sets\n",
    "from imblearn.over_sampling import SMOTE\n",
    "from imblearn.under_sampling import RandomUnderSampler\n",
    "#Libraries for model evaluation\n",
    "from sklearn.metrics import recall_score\n",
    "from sklearn.metrics import accuracy_score\n",
    "from sklearn.metrics import confusion_matrix, ConfusionMatrixDisplay\n",
    "\n"
   ]
  },
  {
   "cell_type": "code",
   "execution_count": 2,
   "id": "94bde6a7",
   "metadata": {
    "execution": {
     "iopub.execute_input": "2022-06-11T16:17:38.359726Z",
     "iopub.status.busy": "2022-06-11T16:17:38.359187Z",
     "iopub.status.idle": "2022-06-11T16:17:44.260051Z",
     "shell.execute_reply": "2022-06-11T16:17:44.258959Z"
    },
    "papermill": {
     "duration": 5.914208,
     "end_time": "2022-06-11T16:17:44.262429",
     "exception": false,
     "start_time": "2022-06-11T16:17:38.348221",
     "status": "completed"
    },
    "tags": []
   },
   "outputs": [
    {
     "data": {
      "text/html": [
       "<div>\n",
       "<style scoped>\n",
       "    .dataframe tbody tr th:only-of-type {\n",
       "        vertical-align: middle;\n",
       "    }\n",
       "\n",
       "    .dataframe tbody tr th {\n",
       "        vertical-align: top;\n",
       "    }\n",
       "\n",
       "    .dataframe thead th {\n",
       "        text-align: right;\n",
       "    }\n",
       "</style>\n",
       "<table border=\"1\" class=\"dataframe\">\n",
       "  <thead>\n",
       "    <tr style=\"text-align: right;\">\n",
       "      <th></th>\n",
       "      <th>Time</th>\n",
       "      <th>V1</th>\n",
       "      <th>V2</th>\n",
       "      <th>V3</th>\n",
       "      <th>V4</th>\n",
       "      <th>V5</th>\n",
       "      <th>V6</th>\n",
       "      <th>V7</th>\n",
       "      <th>V8</th>\n",
       "      <th>V9</th>\n",
       "      <th>...</th>\n",
       "      <th>V21</th>\n",
       "      <th>V22</th>\n",
       "      <th>V23</th>\n",
       "      <th>V24</th>\n",
       "      <th>V25</th>\n",
       "      <th>V26</th>\n",
       "      <th>V27</th>\n",
       "      <th>V28</th>\n",
       "      <th>Amount</th>\n",
       "      <th>Class</th>\n",
       "    </tr>\n",
       "  </thead>\n",
       "  <tbody>\n",
       "    <tr>\n",
       "      <th>0</th>\n",
       "      <td>0.0</td>\n",
       "      <td>-1.359807</td>\n",
       "      <td>-0.072781</td>\n",
       "      <td>2.536347</td>\n",
       "      <td>1.378155</td>\n",
       "      <td>-0.338321</td>\n",
       "      <td>0.462388</td>\n",
       "      <td>0.239599</td>\n",
       "      <td>0.098698</td>\n",
       "      <td>0.363787</td>\n",
       "      <td>...</td>\n",
       "      <td>-0.018307</td>\n",
       "      <td>0.277838</td>\n",
       "      <td>-0.110474</td>\n",
       "      <td>0.066928</td>\n",
       "      <td>0.128539</td>\n",
       "      <td>-0.189115</td>\n",
       "      <td>0.133558</td>\n",
       "      <td>-0.021053</td>\n",
       "      <td>149.62</td>\n",
       "      <td>0</td>\n",
       "    </tr>\n",
       "    <tr>\n",
       "      <th>1</th>\n",
       "      <td>0.0</td>\n",
       "      <td>1.191857</td>\n",
       "      <td>0.266151</td>\n",
       "      <td>0.166480</td>\n",
       "      <td>0.448154</td>\n",
       "      <td>0.060018</td>\n",
       "      <td>-0.082361</td>\n",
       "      <td>-0.078803</td>\n",
       "      <td>0.085102</td>\n",
       "      <td>-0.255425</td>\n",
       "      <td>...</td>\n",
       "      <td>-0.225775</td>\n",
       "      <td>-0.638672</td>\n",
       "      <td>0.101288</td>\n",
       "      <td>-0.339846</td>\n",
       "      <td>0.167170</td>\n",
       "      <td>0.125895</td>\n",
       "      <td>-0.008983</td>\n",
       "      <td>0.014724</td>\n",
       "      <td>2.69</td>\n",
       "      <td>0</td>\n",
       "    </tr>\n",
       "    <tr>\n",
       "      <th>2</th>\n",
       "      <td>1.0</td>\n",
       "      <td>-1.358354</td>\n",
       "      <td>-1.340163</td>\n",
       "      <td>1.773209</td>\n",
       "      <td>0.379780</td>\n",
       "      <td>-0.503198</td>\n",
       "      <td>1.800499</td>\n",
       "      <td>0.791461</td>\n",
       "      <td>0.247676</td>\n",
       "      <td>-1.514654</td>\n",
       "      <td>...</td>\n",
       "      <td>0.247998</td>\n",
       "      <td>0.771679</td>\n",
       "      <td>0.909412</td>\n",
       "      <td>-0.689281</td>\n",
       "      <td>-0.327642</td>\n",
       "      <td>-0.139097</td>\n",
       "      <td>-0.055353</td>\n",
       "      <td>-0.059752</td>\n",
       "      <td>378.66</td>\n",
       "      <td>0</td>\n",
       "    </tr>\n",
       "    <tr>\n",
       "      <th>3</th>\n",
       "      <td>1.0</td>\n",
       "      <td>-0.966272</td>\n",
       "      <td>-0.185226</td>\n",
       "      <td>1.792993</td>\n",
       "      <td>-0.863291</td>\n",
       "      <td>-0.010309</td>\n",
       "      <td>1.247203</td>\n",
       "      <td>0.237609</td>\n",
       "      <td>0.377436</td>\n",
       "      <td>-1.387024</td>\n",
       "      <td>...</td>\n",
       "      <td>-0.108300</td>\n",
       "      <td>0.005274</td>\n",
       "      <td>-0.190321</td>\n",
       "      <td>-1.175575</td>\n",
       "      <td>0.647376</td>\n",
       "      <td>-0.221929</td>\n",
       "      <td>0.062723</td>\n",
       "      <td>0.061458</td>\n",
       "      <td>123.50</td>\n",
       "      <td>0</td>\n",
       "    </tr>\n",
       "    <tr>\n",
       "      <th>4</th>\n",
       "      <td>2.0</td>\n",
       "      <td>-1.158233</td>\n",
       "      <td>0.877737</td>\n",
       "      <td>1.548718</td>\n",
       "      <td>0.403034</td>\n",
       "      <td>-0.407193</td>\n",
       "      <td>0.095921</td>\n",
       "      <td>0.592941</td>\n",
       "      <td>-0.270533</td>\n",
       "      <td>0.817739</td>\n",
       "      <td>...</td>\n",
       "      <td>-0.009431</td>\n",
       "      <td>0.798278</td>\n",
       "      <td>-0.137458</td>\n",
       "      <td>0.141267</td>\n",
       "      <td>-0.206010</td>\n",
       "      <td>0.502292</td>\n",
       "      <td>0.219422</td>\n",
       "      <td>0.215153</td>\n",
       "      <td>69.99</td>\n",
       "      <td>0</td>\n",
       "    </tr>\n",
       "  </tbody>\n",
       "</table>\n",
       "<p>5 rows × 31 columns</p>\n",
       "</div>"
      ],
      "text/plain": [
       "   Time        V1        V2        V3        V4        V5        V6        V7  \\\n",
       "0   0.0 -1.359807 -0.072781  2.536347  1.378155 -0.338321  0.462388  0.239599   \n",
       "1   0.0  1.191857  0.266151  0.166480  0.448154  0.060018 -0.082361 -0.078803   \n",
       "2   1.0 -1.358354 -1.340163  1.773209  0.379780 -0.503198  1.800499  0.791461   \n",
       "3   1.0 -0.966272 -0.185226  1.792993 -0.863291 -0.010309  1.247203  0.237609   \n",
       "4   2.0 -1.158233  0.877737  1.548718  0.403034 -0.407193  0.095921  0.592941   \n",
       "\n",
       "         V8        V9  ...       V21       V22       V23       V24       V25  \\\n",
       "0  0.098698  0.363787  ... -0.018307  0.277838 -0.110474  0.066928  0.128539   \n",
       "1  0.085102 -0.255425  ... -0.225775 -0.638672  0.101288 -0.339846  0.167170   \n",
       "2  0.247676 -1.514654  ...  0.247998  0.771679  0.909412 -0.689281 -0.327642   \n",
       "3  0.377436 -1.387024  ... -0.108300  0.005274 -0.190321 -1.175575  0.647376   \n",
       "4 -0.270533  0.817739  ... -0.009431  0.798278 -0.137458  0.141267 -0.206010   \n",
       "\n",
       "        V26       V27       V28  Amount  Class  \n",
       "0 -0.189115  0.133558 -0.021053  149.62      0  \n",
       "1  0.125895 -0.008983  0.014724    2.69      0  \n",
       "2 -0.139097 -0.055353 -0.059752  378.66      0  \n",
       "3 -0.221929  0.062723  0.061458  123.50      0  \n",
       "4  0.502292  0.219422  0.215153   69.99      0  \n",
       "\n",
       "[5 rows x 31 columns]"
      ]
     },
     "execution_count": 2,
     "metadata": {},
     "output_type": "execute_result"
    }
   ],
   "source": [
    "df = pd.read_csv(\"../input/creditcardfraud/creditcard.csv\")\n",
    "df.head()"
   ]
  },
  {
   "cell_type": "markdown",
   "id": "a1e58e2f",
   "metadata": {
    "papermill": {
     "duration": 0.011853,
     "end_time": "2022-06-11T16:17:44.287083",
     "exception": false,
     "start_time": "2022-06-11T16:17:44.275230",
     "status": "completed"
    },
    "tags": []
   },
   "source": [
    "# Understanding the data set\n",
    "- Due to confidentiality issues many of the parameters cannot be names (V1-v28)\n",
    "- Time denotes the time since the first transaction in the dataset\n",
    "- Amount is the amount of the transaction\n",
    "- Class is whether the transaction is fraud or not (0 = Not Fraud, 1 = Fraud)\n",
    "## What percentage of the data is fraud?\n",
    "- We would expect only a small amount of the transactions to be fraud. We should check this is true for the dataset."
   ]
  },
  {
   "cell_type": "code",
   "execution_count": 3,
   "id": "f79da644",
   "metadata": {
    "execution": {
     "iopub.execute_input": "2022-06-11T16:17:44.310772Z",
     "iopub.status.busy": "2022-06-11T16:17:44.309459Z",
     "iopub.status.idle": "2022-06-11T16:17:44.327981Z",
     "shell.execute_reply": "2022-06-11T16:17:44.326613Z"
    },
    "papermill": {
     "duration": 0.033728,
     "end_time": "2022-06-11T16:17:44.331026",
     "exception": false,
     "start_time": "2022-06-11T16:17:44.297298",
     "status": "completed"
    },
    "tags": []
   },
   "outputs": [
    {
     "name": "stdout",
     "output_type": "stream",
     "text": [
      "None fraud = 284315, fraud = 492, Percentage fraud = 0.17304750013189596%\n"
     ]
    }
   ],
   "source": [
    "x = df[\"Class\"].value_counts()\n",
    "print(\"None fraud = {nf}, fraud = {f}, Percentage fraud = {pf}%\".format(nf=x[0], f=x[1], pf=(x[1]/x[0])*100))"
   ]
  },
  {
   "cell_type": "markdown",
   "id": "d1d97e8e",
   "metadata": {
    "papermill": {
     "duration": 0.009475,
     "end_time": "2022-06-11T16:17:44.350684",
     "exception": false,
     "start_time": "2022-06-11T16:17:44.341209",
     "status": "completed"
    },
    "tags": []
   },
   "source": [
    "We see that fraudulent transactions make up less than 1% of events.\n",
    "\n",
    "Likewise we know that the v values are all the principle values obtained from PCA.\n",
    "\n",
    "The remaining two are the time of the transaction and the amount of the transaction.\n",
    "\n",
    "We can visualise these as histograms."
   ]
  },
  {
   "cell_type": "code",
   "execution_count": 4,
   "id": "f58ed1e7",
   "metadata": {
    "execution": {
     "iopub.execute_input": "2022-06-11T16:17:44.373102Z",
     "iopub.status.busy": "2022-06-11T16:17:44.371653Z",
     "iopub.status.idle": "2022-06-11T16:17:46.795017Z",
     "shell.execute_reply": "2022-06-11T16:17:46.793870Z"
    },
    "papermill": {
     "duration": 2.436962,
     "end_time": "2022-06-11T16:17:46.797486",
     "exception": false,
     "start_time": "2022-06-11T16:17:44.360524",
     "status": "completed"
    },
    "tags": []
   },
   "outputs": [
    {
     "data": {
      "image/png": "[encoded data removed]",
      "text/plain": [
       "<Figure size 1296x288 with 2 Axes>"
      ]
     },
     "metadata": {
      "needs_background": "light"
     },
     "output_type": "display_data"
    }
   ],
   "source": [
    "\n",
    "\n",
    "fig, ax = plt.subplots(1, 2, figsize=(18,4))\n",
    "\n",
    "amount_val = df['Amount'].values\n",
    "time_val = df['Time'].values\n",
    "\n",
    "sns.histplot(data=df, x='Amount', ax=ax[0], color='r', log_scale=(False, True), bins=100)\n",
    "ax[0].set_title('Distribution of Transaction Amount', fontsize=14)\n",
    "#ax[0].set_xlim([0, max(amount_val)])\n",
    "\n",
    "sns.histplot(data=df, x='Time', ax=ax[1], color='b', kde=True)\n",
    "ax[1].set_title('Distribution of Transaction Time', fontsize=14)\n",
    "ax[1].set_xlim([min(time_val), max(time_val)])\n",
    "\n",
    "\n",
    "\n",
    "plt.show()\n",
    "\n"
   ]
  },
  {
   "cell_type": "markdown",
   "id": "66ba05f0",
   "metadata": {
    "papermill": {
     "duration": 0.009743,
     "end_time": "2022-06-11T16:17:46.817427",
     "exception": false,
     "start_time": "2022-06-11T16:17:46.807684",
     "status": "completed"
    },
    "tags": []
   },
   "source": [
    "We begin by splitting the dataset into the dependent variables `X` and the class which we want to predict `y`"
   ]
  },
  {
   "cell_type": "code",
   "execution_count": 5,
   "id": "bbff5712",
   "metadata": {
    "execution": {
     "iopub.execute_input": "2022-06-11T16:17:46.839959Z",
     "iopub.status.busy": "2022-06-11T16:17:46.838891Z",
     "iopub.status.idle": "2022-06-11T16:17:46.929427Z",
     "shell.execute_reply": "2022-06-11T16:17:46.928547Z"
    },
    "papermill": {
     "duration": 0.104384,
     "end_time": "2022-06-11T16:17:46.931817",
     "exception": false,
     "start_time": "2022-06-11T16:17:46.827433",
     "status": "completed"
    },
    "tags": []
   },
   "outputs": [
    {
     "name": "stdout",
     "output_type": "stream",
     "text": [
      "(284807, 30) (284807, 1)\n"
     ]
    }
   ],
   "source": [
    "X = df.iloc[:, df.columns != \"Class\"]\n",
    "y = df.iloc[:, df.columns == \"Class\"]\n",
    "print(X.shape, y.shape)"
   ]
  },
  {
   "cell_type": "markdown",
   "id": "65ccdeb4",
   "metadata": {
    "papermill": {
     "duration": 0.009799,
     "end_time": "2022-06-11T16:17:46.951626",
     "exception": false,
     "start_time": "2022-06-11T16:17:46.941827",
     "status": "completed"
    },
    "tags": []
   },
   "source": [
    "We split the data into two sets, a training set which is 70% of our data and a test set which is 30%"
   ]
  },
  {
   "cell_type": "code",
   "execution_count": 6,
   "id": "dbd7c463",
   "metadata": {
    "execution": {
     "iopub.execute_input": "2022-06-11T16:17:46.974318Z",
     "iopub.status.busy": "2022-06-11T16:17:46.973163Z",
     "iopub.status.idle": "2022-06-11T16:17:47.176993Z",
     "shell.execute_reply": "2022-06-11T16:17:47.175669Z"
    },
    "papermill": {
     "duration": 0.218146,
     "end_time": "2022-06-11T16:17:47.179801",
     "exception": false,
     "start_time": "2022-06-11T16:17:46.961655",
     "status": "completed"
    },
    "tags": []
   },
   "outputs": [],
   "source": [
    "X_train, X_test, y_train, y_test = train_test_split(X, y, test_size=0.3, random_state=42)"
   ]
  },
  {
   "cell_type": "markdown",
   "id": "b2153be0",
   "metadata": {
    "papermill": {
     "duration": 0.009788,
     "end_time": "2022-06-11T16:17:47.199930",
     "exception": false,
     "start_time": "2022-06-11T16:17:47.190142",
     "status": "completed"
    },
    "tags": []
   },
   "source": [
    "All of the V variables have already been normalised so we only need to normalise and scale `Time` and `Amount`"
   ]
  },
  {
   "cell_type": "code",
   "execution_count": 7,
   "id": "3d35f77a",
   "metadata": {
    "execution": {
     "iopub.execute_input": "2022-06-11T16:17:47.222542Z",
     "iopub.status.busy": "2022-06-11T16:17:47.222033Z",
     "iopub.status.idle": "2022-06-11T16:17:47.431677Z",
     "shell.execute_reply": "2022-06-11T16:17:47.430719Z"
    },
    "papermill": {
     "duration": 0.223796,
     "end_time": "2022-06-11T16:17:47.433826",
     "exception": false,
     "start_time": "2022-06-11T16:17:47.210030",
     "status": "completed"
    },
    "tags": []
   },
   "outputs": [
    {
     "name": "stdout",
     "output_type": "stream",
     "text": [
      "(199364, 30) (85443, 30)\n"
     ]
    }
   ],
   "source": [
    "scale_fit = StandardScaler().fit(X_train['Amount'].values.reshape(-1,1))\n",
    "X_train['Amount_Scaled'] = scale_fit.transform(X_train['Amount'].values.reshape(-1,1))\n",
    "X_test['Amount_Scaled'] = scale_fit.transform(X_test['Amount'].values.reshape(-1,1))\n",
    "\n",
    "scale_fit2 = StandardScaler().fit(X_train['Time'].values.reshape(-1,1))\n",
    "X_train['Time_Scaled'] = scale_fit2.transform(X_train['Time'].values.reshape(-1,1))\n",
    "X_test['Time_Scaled'] = scale_fit2.transform(X_test['Time'].values.reshape(-1,1))\n",
    "X_train.drop(['Time','Amount'],axis=1, inplace=True)\n",
    "X_test.drop(['Time','Amount'],axis=1, inplace=True)\n",
    "print(X_train.shape, X_test.shape)\n"
   ]
  },
  {
   "cell_type": "markdown",
   "id": "2f7662df",
   "metadata": {
    "papermill": {
     "duration": 0.009902,
     "end_time": "2022-06-11T16:17:47.453838",
     "exception": false,
     "start_time": "2022-06-11T16:17:47.443936",
     "status": "completed"
    },
    "tags": []
   },
   "source": [
    "## Testing a simplent logitic regression model\n",
    "\n",
    "We can first look at how a simple logitic regression model does at determining whether a transaction is fraudulent or not."
   ]
  },
  {
   "cell_type": "code",
   "execution_count": 8,
   "id": "12d9e598",
   "metadata": {
    "execution": {
     "iopub.execute_input": "2022-06-11T16:17:47.476781Z",
     "iopub.status.busy": "2022-06-11T16:17:47.475917Z",
     "iopub.status.idle": "2022-06-11T16:17:47.481767Z",
     "shell.execute_reply": "2022-06-11T16:17:47.480596Z"
    },
    "papermill": {
     "duration": 0.019995,
     "end_time": "2022-06-11T16:17:47.484231",
     "exception": false,
     "start_time": "2022-06-11T16:17:47.464236",
     "status": "completed"
    },
    "tags": []
   },
   "outputs": [],
   "source": [
    "parameters ={'C':[0.01,0.1,1],\n",
    "             'penalty':['l2'],\n",
    "             'solver':['lbfgs']}"
   ]
  },
  {
   "cell_type": "code",
   "execution_count": 9,
   "id": "a0f0dc9d",
   "metadata": {
    "execution": {
     "iopub.execute_input": "2022-06-11T16:17:47.506938Z",
     "iopub.status.busy": "2022-06-11T16:17:47.506351Z",
     "iopub.status.idle": "2022-06-11T16:18:46.689621Z",
     "shell.execute_reply": "2022-06-11T16:18:46.688141Z"
    },
    "papermill": {
     "duration": 59.201611,
     "end_time": "2022-06-11T16:18:46.696141",
     "exception": false,
     "start_time": "2022-06-11T16:17:47.494530",
     "status": "completed"
    },
    "tags": []
   },
   "outputs": [
    {
     "data": {
      "text/plain": [
       "GridSearchCV(cv=10, estimator=LogisticRegression(),\n",
       "             param_grid={'C': [0.01, 0.1, 1], 'penalty': ['l2'],\n",
       "                         'solver': ['lbfgs']})"
      ]
     },
     "execution_count": 9,
     "metadata": {},
     "output_type": "execute_result"
    }
   ],
   "source": [
    "parameters ={\"C\":[0.01,0.1,1],'penalty':['l2'], 'solver':['lbfgs']}# l1 lasso l2 ridge\n",
    "lr=LogisticRegression()\n",
    "logreg_cv = GridSearchCV(lr, parameters, cv=10)\n",
    "logreg_cv.fit(X_train, y_train.values.ravel())\n"
   ]
  },
  {
   "cell_type": "code",
   "execution_count": 10,
   "id": "2a91ecc3",
   "metadata": {
    "execution": {
     "iopub.execute_input": "2022-06-11T16:18:46.737466Z",
     "iopub.status.busy": "2022-06-11T16:18:46.736473Z",
     "iopub.status.idle": "2022-06-11T16:18:46.834335Z",
     "shell.execute_reply": "2022-06-11T16:18:46.832965Z"
    },
    "papermill": {
     "duration": 0.123023,
     "end_time": "2022-06-11T16:18:46.838335",
     "exception": false,
     "start_time": "2022-06-11T16:18:46.715312",
     "status": "completed"
    },
    "tags": []
   },
   "outputs": [
    {
     "name": "stdout",
     "output_type": "stream",
     "text": [
      "The accuracy of the model is 0.9992743700478681.\n",
      "The recall score of the model is 0.6323529411764706.\n"
     ]
    }
   ],
   "source": [
    "\n",
    "y_pred = logreg_cv.predict(X_test)\n",
    "recall_score_result = recall_score (y_test,y_pred)\n",
    "accuracy_score_result = accuracy_score(y_test, y_pred)\n",
    "\n",
    "print(\"The accuracy of the model is {accuracy}.\".format(accuracy=accuracy_score_result))\n",
    "print(\"The recall score of the model is {recall}.\".format(recall=recall_score_result))"
   ]
  },
  {
   "cell_type": "code",
   "execution_count": 11,
   "id": "3f654431",
   "metadata": {
    "execution": {
     "iopub.execute_input": "2022-06-11T16:18:46.881948Z",
     "iopub.status.busy": "2022-06-11T16:18:46.881026Z",
     "iopub.status.idle": "2022-06-11T16:18:47.107219Z",
     "shell.execute_reply": "2022-06-11T16:18:47.106091Z"
    },
    "papermill": {
     "duration": 0.249241,
     "end_time": "2022-06-11T16:18:47.109563",
     "exception": false,
     "start_time": "2022-06-11T16:18:46.860322",
     "status": "completed"
    },
    "tags": []
   },
   "outputs": [
    {
     "data": {
      "image/png": "[encoded data removed]",
      "text/plain": [
       "<Figure size 432x288 with 2 Axes>"
      ]
     },
     "metadata": {
      "needs_background": "light"
     },
     "output_type": "display_data"
    }
   ],
   "source": [
    "cm = confusion_matrix(y_test, y_pred)\n",
    "disp = ConfusionMatrixDisplay(confusion_matrix=cm,display_labels=[\"Not Fraud\", \"Fraud\"])\n",
    "disp.plot()\n",
    "plt.show()"
   ]
  },
  {
   "cell_type": "markdown",
   "id": "98a013a5",
   "metadata": {
    "papermill": {
     "duration": 0.010681,
     "end_time": "2022-06-11T16:18:47.131223",
     "exception": false,
     "start_time": "2022-06-11T16:18:47.120542",
     "status": "completed"
    },
    "tags": []
   },
   "source": [
    "Here we can see why using recall score is import to test the performance of the model vs just looking at the accuracy of the predictions. As non-fraudulent purchases dominate the data it is possible to have a very high accuracy with a poor recall score.\n",
    "\n",
    "From the confusion matrix we can see that the model does a good job at accurately predicting the not fraudulant purchases correctly. However, it is less able to predict the fraud cases as such. This is likely as the model becomes biases to the dominating class which in this case is not fraudulant transactions."
   ]
  },
  {
   "cell_type": "markdown",
   "id": "f704bfa4",
   "metadata": {
    "papermill": {
     "duration": 0.010651,
     "end_time": "2022-06-11T16:18:47.152823",
     "exception": false,
     "start_time": "2022-06-11T16:18:47.142172",
     "status": "completed"
    },
    "tags": []
   },
   "source": [
    "# Undersampling the data\n",
    "- As we have a large imbalance between the number of ligitimate transactions and the number of fraudulent transactions it will be beneficial to undersample the data.\n",
    "- This stops the model becoming to well trained on legitimate transactions and mitigates the amount of fraudulent events being missing\n",
    "- By undersampling the data we randomly discard a fraction of our dominant class such that we end up with an equal amount of both classes in the training data.\n",
    "- To do the undersampling we employ the `RandomUnderSampler()` from the ImbalancedLearn library\n",
    "- We only undersample the training data as in a real world example we expect the unseen data to be predominantly legitimate transactions"
   ]
  },
  {
   "cell_type": "code",
   "execution_count": 12,
   "id": "ff7f7777",
   "metadata": {
    "execution": {
     "iopub.execute_input": "2022-06-11T16:18:47.177854Z",
     "iopub.status.busy": "2022-06-11T16:18:47.176735Z",
     "iopub.status.idle": "2022-06-11T16:18:47.257553Z",
     "shell.execute_reply": "2022-06-11T16:18:47.256188Z"
    },
    "papermill": {
     "duration": 0.096095,
     "end_time": "2022-06-11T16:18:47.260349",
     "exception": false,
     "start_time": "2022-06-11T16:18:47.164254",
     "status": "completed"
    },
    "tags": []
   },
   "outputs": [
    {
     "name": "stdout",
     "output_type": "stream",
     "text": [
      "(712, 1)\n",
      "Resampled dataset shape Counter({0: 356, 1: 356})\n"
     ]
    }
   ],
   "source": [
    "rus = RandomUnderSampler(random_state=0)\n",
    "\n",
    "X_resampled, y_resampled = rus.fit_resample(X_train, y_train)\n",
    "print(y_resampled.shape)\n",
    "print('Resampled dataset shape %s' % Counter(y_resampled.values.ravel()))\n"
   ]
  },
  {
   "cell_type": "markdown",
   "id": "45ab160a",
   "metadata": {
    "papermill": {
     "duration": 0.010734,
     "end_time": "2022-06-11T16:18:47.282319",
     "exception": false,
     "start_time": "2022-06-11T16:18:47.271585",
     "status": "completed"
    },
    "tags": []
   },
   "source": [
    "We can see we now have an equal number of legitimate transactions and fraudulent transactions in our training set\n",
    "\n",
    "## Testing different models\n",
    "- We can repeat our previous test of a simple Logistic Regression model and also test out some other classifiers"
   ]
  },
  {
   "cell_type": "code",
   "execution_count": 13,
   "id": "e9549908",
   "metadata": {
    "execution": {
     "iopub.execute_input": "2022-06-11T16:18:47.306607Z",
     "iopub.status.busy": "2022-06-11T16:18:47.305542Z",
     "iopub.status.idle": "2022-06-11T16:18:48.347245Z",
     "shell.execute_reply": "2022-06-11T16:18:48.345826Z"
    },
    "papermill": {
     "duration": 1.057623,
     "end_time": "2022-06-11T16:18:48.350865",
     "exception": false,
     "start_time": "2022-06-11T16:18:47.293242",
     "status": "completed"
    },
    "tags": []
   },
   "outputs": [
    {
     "name": "stdout",
     "output_type": "stream",
     "text": [
      "The accuracy of the model is 0.9628290205166017.\n",
      "The recall score of the model is 0.9338235294117647.\n"
     ]
    }
   ],
   "source": [
    "parameters ={\"C\":[0.01,0.1,1],'penalty':['l2'], 'solver':['lbfgs']}# l1 lasso l2 ridge\n",
    "lr=LogisticRegression()\n",
    "logreg_cv = GridSearchCV(lr, parameters, cv=10)\n",
    "logreg_cv.fit(X_resampled, y_resampled.values.ravel())\n",
    "y_pred = logreg_cv.predict(X_test)\n",
    "recall_score_result = recall_score (y_test,y_pred)\n",
    "accuracy_score_result = accuracy_score(y_test, y_pred)\n",
    "\n",
    "print(\"The accuracy of the model is {accuracy}.\".format(accuracy=accuracy_score_result))\n",
    "print(\"The recall score of the model is {recall}.\".format(recall=recall_score_result))"
   ]
  },
  {
   "cell_type": "code",
   "execution_count": 14,
   "id": "8bcd965b",
   "metadata": {
    "execution": {
     "iopub.execute_input": "2022-06-11T16:18:48.389067Z",
     "iopub.status.busy": "2022-06-11T16:18:48.388541Z",
     "iopub.status.idle": "2022-06-11T16:19:30.212333Z",
     "shell.execute_reply": "2022-06-11T16:19:30.211158Z"
    },
    "papermill": {
     "duration": 41.85339,
     "end_time": "2022-06-11T16:19:30.225603",
     "exception": false,
     "start_time": "2022-06-11T16:18:48.372213",
     "status": "completed"
    },
    "tags": []
   },
   "outputs": [
    {
     "name": "stdout",
     "output_type": "stream",
     "text": [
      "The accuracy of the model is 0.9077513664080147.\n",
      "The recall score of the model is 0.9191176470588235.\n"
     ]
    }
   ],
   "source": [
    "parameters = {'criterion': ['gini', 'entropy'],\n",
    "     'splitter': ['best', 'random'],\n",
    "     'max_depth': [2*n for n in range(1,10)],\n",
    "     'max_features': ['auto', 'sqrt'],\n",
    "     'min_samples_leaf': [1, 2, 4],\n",
    "     'min_samples_split': [2, 5, 10]}\n",
    "\n",
    "tree = DecisionTreeClassifier()\n",
    "\n",
    "tree_cv = GridSearchCV(tree, parameters, cv = 10)\n",
    "tree_cv.fit(X_resampled, y_resampled.values.ravel())\n",
    "y_pred = tree_cv.predict(X_test)\n",
    "recall_score_result = recall_score (y_test,y_pred)\n",
    "accuracy_score_result = accuracy_score(y_test, y_pred)\n",
    "\n",
    "print(\"The accuracy of the model is {accuracy}.\".format(accuracy=accuracy_score_result))\n",
    "print(\"The recall score of the model is {recall}.\".format(recall=recall_score_result))"
   ]
  },
  {
   "cell_type": "code",
   "execution_count": 15,
   "id": "d036a704",
   "metadata": {
    "execution": {
     "iopub.execute_input": "2022-06-11T16:19:30.249819Z",
     "iopub.status.busy": "2022-06-11T16:19:30.249269Z",
     "iopub.status.idle": "2022-06-11T16:19:45.381140Z",
     "shell.execute_reply": "2022-06-11T16:19:45.379939Z"
    },
    "papermill": {
     "duration": 15.147483,
     "end_time": "2022-06-11T16:19:45.384044",
     "exception": false,
     "start_time": "2022-06-11T16:19:30.236561",
     "status": "completed"
    },
    "tags": []
   },
   "outputs": [
    {
     "name": "stdout",
     "output_type": "stream",
     "text": [
      "The accuracy of the model is 0.9805835469260209.\n",
      "The recall score of the model is 0.8970588235294118.\n"
     ]
    }
   ],
   "source": [
    "parameters = {'n_neighbors': [1, 2, 3, 4, 5, 6, 7, 8, 9, 10],\n",
    "              'algorithm': ['auto', 'ball_tree', 'kd_tree', 'brute'],\n",
    "              'p': [1,2]}\n",
    "\n",
    "KNN = KNeighborsClassifier()\n",
    "\n",
    "knn_cv = GridSearchCV(KNN, parameters, cv = 10)\n",
    "knn_cv.fit(X_resampled, y_resampled.values.ravel())\n",
    "y_pred = knn_cv.predict(X_test)\n",
    "recall_score_result = recall_score (y_test,y_pred)\n",
    "accuracy_score_result = accuracy_score(y_test, y_pred)\n",
    "\n",
    "print(\"The accuracy of the model is {accuracy}.\".format(accuracy=accuracy_score_result))\n",
    "print(\"The recall score of the model is {recall}.\".format(recall=recall_score_result))"
   ]
  },
  {
   "cell_type": "code",
   "execution_count": 16,
   "id": "3a7809e2",
   "metadata": {
    "execution": {
     "iopub.execute_input": "2022-06-11T16:19:45.408589Z",
     "iopub.status.busy": "2022-06-11T16:19:45.408072Z",
     "iopub.status.idle": "2022-06-11T16:19:48.797629Z",
     "shell.execute_reply": "2022-06-11T16:19:48.796207Z"
    },
    "papermill": {
     "duration": 3.406642,
     "end_time": "2022-06-11T16:19:48.801983",
     "exception": false,
     "start_time": "2022-06-11T16:19:45.395341",
     "status": "completed"
    },
    "tags": []
   },
   "outputs": [
    {
     "name": "stdout",
     "output_type": "stream",
     "text": [
      "The accuracy of the model is 0.9528808679470524.\n",
      "The recall score of the model is 0.9485294117647058.\n"
     ]
    }
   ],
   "source": [
    "clf = MLPClassifier(hidden_layer_sizes=(200,), max_iter=10000, random_state=10).fit(X_resampled, y_resampled.values.ravel())\n",
    "y_pred = clf.predict(X_test)\n",
    "recall_score_result = recall_score (y_test,y_pred)\n",
    "accuracy_score_result = accuracy_score(y_test, y_pred)\n",
    "\n",
    "print(\"The accuracy of the model is {accuracy}.\".format(accuracy=accuracy_score_result))\n",
    "print(\"The recall score of the model is {recall}.\".format(recall=recall_score_result))"
   ]
  },
  {
   "cell_type": "code",
   "execution_count": 17,
   "id": "8f662eb1",
   "metadata": {
    "execution": {
     "iopub.execute_input": "2022-06-11T16:19:48.837279Z",
     "iopub.status.busy": "2022-06-11T16:19:48.836808Z",
     "iopub.status.idle": "2022-06-11T16:19:49.095391Z",
     "shell.execute_reply": "2022-06-11T16:19:49.093947Z"
    },
    "papermill": {
     "duration": 0.279524,
     "end_time": "2022-06-11T16:19:49.099028",
     "exception": false,
     "start_time": "2022-06-11T16:19:48.819504",
     "status": "completed"
    },
    "tags": []
   },
   "outputs": [
    {
     "data": {
      "image/png": "[encoded data removed]",
      "text/plain": [
       "<Figure size 432x288 with 2 Axes>"
      ]
     },
     "metadata": {
      "needs_background": "light"
     },
     "output_type": "display_data"
    }
   ],
   "source": [
    "cm = confusion_matrix(y_test, y_pred)\n",
    "disp = ConfusionMatrixDisplay(confusion_matrix=cm,display_labels=[\"Not Fraud\", \"Fraud\"])\n",
    "disp.plot()\n",
    "plt.show()"
   ]
  },
  {
   "cell_type": "markdown",
   "id": "4d605441",
   "metadata": {
    "papermill": {
     "duration": 0.015951,
     "end_time": "2022-06-11T16:19:49.130985",
     "exception": false,
     "start_time": "2022-06-11T16:19:49.115034",
     "status": "completed"
    },
    "tags": []
   },
   "source": [
    "### Summary\n",
    "\n",
    "#### Results table\n",
    "|Classifier|Recall|Accuracy|\n",
    "|:--------:|:----:|:------:|\n",
    "|Logistic Regression |0.96282902|0.93382353|\n",
    "|Decision Tree       |0.94466486|0.91911764|\n",
    "|KNN                   |0.98058355|0.89705882|\n",
    "|Multi-Layer Perceptron|0.95288086|0.94852941|\n",
    "\n",
    "#### Discussion\n",
    "- We see that all four classifiers have a better recall score than the model trained on the non-undersampled data\n",
    "- All four models have a worse model accuracy though as they are less able to well predict the non-fraudulent cases as they are exposed to less.\n",
    "    - This is evidenced in the confusion matrix of the MLP classifier which does well to reproduce the Fraudulent cases but is less well able to handle the non-fraudulent cases\n",
    "- While undersampling has led to a model that is better able to predict when an event is truely fraudulent, the false positive rate of not fraudulent purchases being flagged as fraudulent could be a hassle as it may lead to blocked legitimate purchases"
   ]
  },
  {
   "cell_type": "markdown",
   "id": "5db169dc",
   "metadata": {
    "papermill": {
     "duration": 0.017805,
     "end_time": "2022-06-11T16:19:49.168878",
     "exception": false,
     "start_time": "2022-06-11T16:19:49.151073",
     "status": "completed"
    },
    "tags": []
   },
   "source": [
    "## Oversampling the data\n",
    "\n",
    "- One of the downsides of undersampling is that in the case of severely imbalanced data a large amount of the training data is discarded\n",
    "- Oversampling is an alternative method for imbalanced data that instead creates additional items of the less dominant class and inserts them into the training set\n",
    "- In the case of SMOTE (Synthetic Minority Over-sampling Technique), that is employed here, these synthetic events are created randomly by joining the nearest neighbours of the minority class in the \"feature space\"\n",
    "- For a detailed discussion of SMOTE see [this link](https://arxiv.org/abs/1106.1813)"
   ]
  },
  {
   "cell_type": "code",
   "execution_count": 18,
   "id": "a5212a2e",
   "metadata": {
    "execution": {
     "iopub.execute_input": "2022-06-11T16:19:49.194332Z",
     "iopub.status.busy": "2022-06-11T16:19:49.193820Z",
     "iopub.status.idle": "2022-06-11T16:19:49.831999Z",
     "shell.execute_reply": "2022-06-11T16:19:49.830464Z"
    },
    "papermill": {
     "duration": 0.654501,
     "end_time": "2022-06-11T16:19:49.835130",
     "exception": false,
     "start_time": "2022-06-11T16:19:49.180629",
     "status": "completed"
    },
    "tags": []
   },
   "outputs": [
    {
     "name": "stdout",
     "output_type": "stream",
     "text": [
      "Resampled dataset shape Counter({0: 199008, 1: 199008})\n"
     ]
    }
   ],
   "source": [
    "sm = SMOTE(random_state=42)\n",
    "X_resampled, y_resampled = sm.fit_resample(X_train, y_train)\n",
    "print('Resampled dataset shape %s' % Counter(y_resampled.values.ravel()))"
   ]
  },
  {
   "cell_type": "markdown",
   "id": "7a68cc7f",
   "metadata": {
    "papermill": {
     "duration": 0.011182,
     "end_time": "2022-06-11T16:19:49.858197",
     "exception": false,
     "start_time": "2022-06-11T16:19:49.847015",
     "status": "completed"
    },
    "tags": []
   },
   "source": [
    "We take our best performing classifier from the undersampling case and now apply it to the oversampled data"
   ]
  },
  {
   "cell_type": "code",
   "execution_count": 19,
   "id": "34850edd",
   "metadata": {
    "execution": {
     "iopub.execute_input": "2022-06-11T16:19:49.884217Z",
     "iopub.status.busy": "2022-06-11T16:19:49.883671Z",
     "iopub.status.idle": "2022-06-11T16:22:23.760225Z",
     "shell.execute_reply": "2022-06-11T16:22:23.758441Z"
    },
    "papermill": {
     "duration": 153.92229,
     "end_time": "2022-06-11T16:22:23.792558",
     "exception": false,
     "start_time": "2022-06-11T16:19:49.870268",
     "status": "completed"
    },
    "tags": []
   },
   "outputs": [
    {
     "name": "stdout",
     "output_type": "stream",
     "text": [
      "The accuracy of the model is 0.9993679997191109.\n",
      "The recall score of the model is 0.8382352941176471.\n"
     ]
    }
   ],
   "source": [
    "clf = MLPClassifier(hidden_layer_sizes=(200,), max_iter=10000, random_state=10).fit(X_resampled, y_resampled.values.ravel())\n",
    "y_pred = clf.predict(X_test)\n",
    "recall_score_result = recall_score (y_test,y_pred)\n",
    "accuracy_score_result = accuracy_score(y_test, y_pred)\n",
    "\n",
    "print(\"The accuracy of the model is {accuracy}.\".format(accuracy=accuracy_score_result))\n",
    "print(\"The recall score of the model is {recall}.\".format(recall=recall_score_result))"
   ]
  },
  {
   "cell_type": "code",
   "execution_count": 20,
   "id": "c52d0224",
   "metadata": {
    "execution": {
     "iopub.execute_input": "2022-06-11T16:22:23.835039Z",
     "iopub.status.busy": "2022-06-11T16:22:23.834453Z",
     "iopub.status.idle": "2022-06-11T16:22:24.070194Z",
     "shell.execute_reply": "2022-06-11T16:22:24.069090Z"
    },
    "papermill": {
     "duration": 0.253061,
     "end_time": "2022-06-11T16:22:24.072863",
     "exception": false,
     "start_time": "2022-06-11T16:22:23.819802",
     "status": "completed"
    },
    "tags": []
   },
   "outputs": [
    {
     "data": {
      "image/png": "[encoded data removed]",
      "text/plain": [
       "<Figure size 432x288 with 2 Axes>"
      ]
     },
     "metadata": {
      "needs_background": "light"
     },
     "output_type": "display_data"
    }
   ],
   "source": [
    "cm = confusion_matrix(y_test, y_pred)\n",
    "disp = ConfusionMatrixDisplay(confusion_matrix=cm,display_labels=[\"Not Fraud\", \"Fraud\"])\n",
    "disp.plot()\n",
    "plt.show()"
   ]
  },
  {
   "cell_type": "markdown",
   "id": "1331b464",
   "metadata": {
    "papermill": {
     "duration": 0.011576,
     "end_time": "2022-06-11T16:22:24.096530",
     "exception": false,
     "start_time": "2022-06-11T16:22:24.084954",
     "status": "completed"
    },
    "tags": []
   },
   "source": [
    "### Summary\n",
    "- We obtain a much better accuracy than for the undersampled case with the model again able to well predict the non-fraudulent purchases well\n",
    "- The model however performs worse on accurately predicting fraudulent transactions, with a greater number of fraudulent transactions being identified as not fraud.\n",
    "    - The performance is however better than when the non-undersampled data was used for model training."
   ]
  },
  {
   "cell_type": "markdown",
   "id": "851773f2",
   "metadata": {
    "papermill": {
     "duration": 0.011533,
     "end_time": "2022-06-11T16:22:24.120080",
     "exception": false,
     "start_time": "2022-06-11T16:22:24.108547",
     "status": "completed"
    },
    "tags": []
   },
   "source": [
    "# Conclusions\n",
    "- Imbalanced data sets can cause issues when training models where it is required to accurately predict the minority class\n",
    "- Both undersampling and oversampling can be used to aid in the training of models on severly imbalanced data sets\n",
    "- In the case of fraudulent transactions it was found that undersampling gave the best recall score for \"non-fraudulent transactions\"\n",
    "    - This came at the cost of an increased false positive rate though which in a real world scenario could lead to annoyed customers having their purchases declined\n",
    "- Oversampling was found to give an improvement on just using the initial training data weightings but could not match the recall score of the undersampled data\n",
    "    - Using oversampling in a real world scenario may be preferable as while it misses more fraudulent transactions, it has a better overall model accuracy\n",
    "\n",
    "# Further works\n",
    "- As SMOTE relies upon creating synthetic values in the minority class it may be found that it is sensitive to outliers in the training data.\n",
    "    - It could be investigated whether removing any outliers from the training data improves its performance\n",
    "- In the [paper](https://arxiv.org/abs/1106.1813) referenced above the authors note that a combination of undersampling and oversampling can be used to obtain better classifier performance."
   ]
  },
  {
   "cell_type": "code",
   "execution_count": null,
   "id": "cdf36c03",
   "metadata": {
    "papermill": {
     "duration": 0.011597,
     "end_time": "2022-06-11T16:22:24.143633",
     "exception": false,
     "start_time": "2022-06-11T16:22:24.132036",
     "status": "completed"
    },
    "tags": []
   },
   "outputs": [],
   "source": []
  }
 ],
 "metadata": {
  "kernelspec": {
   "display_name": "Python 3",
   "language": "python",
   "name": "python3"
  },
  "language_info": {
   "codemirror_mode": {
    "name": "ipython",
    "version": 3
   },
   "file_extension": ".py",
   "mimetype": "text/x-python",
   "name": "python",
   "nbconvert_exporter": "python",
   "pygments_lexer": "ipython3",
   "version": "3.7.12"
  },
  "papermill": {
   "default_parameters": {},
   "duration": 301.977564,
   "end_time": "2022-06-11T16:22:26.464017",
   "environment_variables": {},
   "exception": null,
   "input_path": "__notebook__.ipynb",
   "output_path": "__notebook__.ipynb",
   "parameters": {},
   "start_time": "2022-06-11T16:17:24.486453",
   "version": "2.3.4"
  }
 },
 "nbformat": 4,
 "nbformat_minor": 5
}
