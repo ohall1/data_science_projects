{
 "cells": [
  {
   "cell_type": "code",
   "execution_count": 1,
   "id": "3792a20b",
   "metadata": {
    "_cell_guid": "b1076dfc-b9ad-4769-8c92-a6c4dae69d19",
    "_uuid": "8f2839f25d086af736a60e9eeb907d3b93b6e0e5",
    "execution": {
     "iopub.execute_input": "2022-05-28T17:01:33.644374Z",
     "iopub.status.busy": "2022-05-28T17:01:33.643927Z",
     "iopub.status.idle": "2022-05-28T17:01:33.652444Z",
     "shell.execute_reply": "2022-05-28T17:01:33.651832Z"
    },
    "papermill": {
     "duration": 0.017072,
     "end_time": "2022-05-28T17:01:33.654193",
     "exception": false,
     "start_time": "2022-05-28T17:01:33.637121",
     "status": "completed"
    },
    "tags": []
   },
   "outputs": [],
   "source": [
    "# This Python 3 environment comes with many helpful analytics libraries installed\n",
    "# It is defined by the kaggle/python Docker image: https://github.com/kaggle/docker-python\n",
    "# For example, here's several helpful packages to load\n",
    "\n",
    "import numpy as np # linear algebra\n",
    "import pandas as pd # data processing, CSV file I/O (e.g. pd.read_csv)\n",
    "import matplotlib.pyplot as plt"
   ]
  },
  {
   "cell_type": "code",
   "execution_count": 2,
   "id": "8fb9da4e",
   "metadata": {
    "execution": {
     "iopub.execute_input": "2022-05-28T17:01:33.666255Z",
     "iopub.status.busy": "2022-05-28T17:01:33.665736Z",
     "iopub.status.idle": "2022-05-28T17:01:37.707366Z",
     "shell.execute_reply": "2022-05-28T17:01:37.706221Z"
    },
    "papermill": {
     "duration": 4.048792,
     "end_time": "2022-05-28T17:01:37.709734",
     "exception": false,
     "start_time": "2022-05-28T17:01:33.660942",
     "status": "completed"
    },
    "tags": []
   },
   "outputs": [
    {
     "data": {
      "text/html": [
       "<div>\n",
       "<style scoped>\n",
       "    .dataframe tbody tr th:only-of-type {\n",
       "        vertical-align: middle;\n",
       "    }\n",
       "\n",
       "    .dataframe tbody tr th {\n",
       "        vertical-align: top;\n",
       "    }\n",
       "\n",
       "    .dataframe thead th {\n",
       "        text-align: right;\n",
       "    }\n",
       "</style>\n",
       "<table border=\"1\" class=\"dataframe\">\n",
       "  <thead>\n",
       "    <tr style=\"text-align: right;\">\n",
       "      <th></th>\n",
       "      <th>Time</th>\n",
       "      <th>V1</th>\n",
       "      <th>V2</th>\n",
       "      <th>V3</th>\n",
       "      <th>V4</th>\n",
       "      <th>V5</th>\n",
       "      <th>V6</th>\n",
       "      <th>V7</th>\n",
       "      <th>V8</th>\n",
       "      <th>V9</th>\n",
       "      <th>...</th>\n",
       "      <th>V21</th>\n",
       "      <th>V22</th>\n",
       "      <th>V23</th>\n",
       "      <th>V24</th>\n",
       "      <th>V25</th>\n",
       "      <th>V26</th>\n",
       "      <th>V27</th>\n",
       "      <th>V28</th>\n",
       "      <th>Amount</th>\n",
       "      <th>Class</th>\n",
       "    </tr>\n",
       "  </thead>\n",
       "  <tbody>\n",
       "    <tr>\n",
       "      <th>0</th>\n",
       "      <td>0.0</td>\n",
       "      <td>-1.359807</td>\n",
       "      <td>-0.072781</td>\n",
       "      <td>2.536347</td>\n",
       "      <td>1.378155</td>\n",
       "      <td>-0.338321</td>\n",
       "      <td>0.462388</td>\n",
       "      <td>0.239599</td>\n",
       "      <td>0.098698</td>\n",
       "      <td>0.363787</td>\n",
       "      <td>...</td>\n",
       "      <td>-0.018307</td>\n",
       "      <td>0.277838</td>\n",
       "      <td>-0.110474</td>\n",
       "      <td>0.066928</td>\n",
       "      <td>0.128539</td>\n",
       "      <td>-0.189115</td>\n",
       "      <td>0.133558</td>\n",
       "      <td>-0.021053</td>\n",
       "      <td>149.62</td>\n",
       "      <td>0</td>\n",
       "    </tr>\n",
       "    <tr>\n",
       "      <th>1</th>\n",
       "      <td>0.0</td>\n",
       "      <td>1.191857</td>\n",
       "      <td>0.266151</td>\n",
       "      <td>0.166480</td>\n",
       "      <td>0.448154</td>\n",
       "      <td>0.060018</td>\n",
       "      <td>-0.082361</td>\n",
       "      <td>-0.078803</td>\n",
       "      <td>0.085102</td>\n",
       "      <td>-0.255425</td>\n",
       "      <td>...</td>\n",
       "      <td>-0.225775</td>\n",
       "      <td>-0.638672</td>\n",
       "      <td>0.101288</td>\n",
       "      <td>-0.339846</td>\n",
       "      <td>0.167170</td>\n",
       "      <td>0.125895</td>\n",
       "      <td>-0.008983</td>\n",
       "      <td>0.014724</td>\n",
       "      <td>2.69</td>\n",
       "      <td>0</td>\n",
       "    </tr>\n",
       "    <tr>\n",
       "      <th>2</th>\n",
       "      <td>1.0</td>\n",
       "      <td>-1.358354</td>\n",
       "      <td>-1.340163</td>\n",
       "      <td>1.773209</td>\n",
       "      <td>0.379780</td>\n",
       "      <td>-0.503198</td>\n",
       "      <td>1.800499</td>\n",
       "      <td>0.791461</td>\n",
       "      <td>0.247676</td>\n",
       "      <td>-1.514654</td>\n",
       "      <td>...</td>\n",
       "      <td>0.247998</td>\n",
       "      <td>0.771679</td>\n",
       "      <td>0.909412</td>\n",
       "      <td>-0.689281</td>\n",
       "      <td>-0.327642</td>\n",
       "      <td>-0.139097</td>\n",
       "      <td>-0.055353</td>\n",
       "      <td>-0.059752</td>\n",
       "      <td>378.66</td>\n",
       "      <td>0</td>\n",
       "    </tr>\n",
       "    <tr>\n",
       "      <th>3</th>\n",
       "      <td>1.0</td>\n",
       "      <td>-0.966272</td>\n",
       "      <td>-0.185226</td>\n",
       "      <td>1.792993</td>\n",
       "      <td>-0.863291</td>\n",
       "      <td>-0.010309</td>\n",
       "      <td>1.247203</td>\n",
       "      <td>0.237609</td>\n",
       "      <td>0.377436</td>\n",
       "      <td>-1.387024</td>\n",
       "      <td>...</td>\n",
       "      <td>-0.108300</td>\n",
       "      <td>0.005274</td>\n",
       "      <td>-0.190321</td>\n",
       "      <td>-1.175575</td>\n",
       "      <td>0.647376</td>\n",
       "      <td>-0.221929</td>\n",
       "      <td>0.062723</td>\n",
       "      <td>0.061458</td>\n",
       "      <td>123.50</td>\n",
       "      <td>0</td>\n",
       "    </tr>\n",
       "    <tr>\n",
       "      <th>4</th>\n",
       "      <td>2.0</td>\n",
       "      <td>-1.158233</td>\n",
       "      <td>0.877737</td>\n",
       "      <td>1.548718</td>\n",
       "      <td>0.403034</td>\n",
       "      <td>-0.407193</td>\n",
       "      <td>0.095921</td>\n",
       "      <td>0.592941</td>\n",
       "      <td>-0.270533</td>\n",
       "      <td>0.817739</td>\n",
       "      <td>...</td>\n",
       "      <td>-0.009431</td>\n",
       "      <td>0.798278</td>\n",
       "      <td>-0.137458</td>\n",
       "      <td>0.141267</td>\n",
       "      <td>-0.206010</td>\n",
       "      <td>0.502292</td>\n",
       "      <td>0.219422</td>\n",
       "      <td>0.215153</td>\n",
       "      <td>69.99</td>\n",
       "      <td>0</td>\n",
       "    </tr>\n",
       "  </tbody>\n",
       "</table>\n",
       "<p>5 rows × 31 columns</p>\n",
       "</div>"
      ],
      "text/plain": [
       "   Time        V1        V2        V3        V4        V5        V6        V7  \\\n",
       "0   0.0 -1.359807 -0.072781  2.536347  1.378155 -0.338321  0.462388  0.239599   \n",
       "1   0.0  1.191857  0.266151  0.166480  0.448154  0.060018 -0.082361 -0.078803   \n",
       "2   1.0 -1.358354 -1.340163  1.773209  0.379780 -0.503198  1.800499  0.791461   \n",
       "3   1.0 -0.966272 -0.185226  1.792993 -0.863291 -0.010309  1.247203  0.237609   \n",
       "4   2.0 -1.158233  0.877737  1.548718  0.403034 -0.407193  0.095921  0.592941   \n",
       "\n",
       "         V8        V9  ...       V21       V22       V23       V24       V25  \\\n",
       "0  0.098698  0.363787  ... -0.018307  0.277838 -0.110474  0.066928  0.128539   \n",
       "1  0.085102 -0.255425  ... -0.225775 -0.638672  0.101288 -0.339846  0.167170   \n",
       "2  0.247676 -1.514654  ...  0.247998  0.771679  0.909412 -0.689281 -0.327642   \n",
       "3  0.377436 -1.387024  ... -0.108300  0.005274 -0.190321 -1.175575  0.647376   \n",
       "4 -0.270533  0.817739  ... -0.009431  0.798278 -0.137458  0.141267 -0.206010   \n",
       "\n",
       "        V26       V27       V28  Amount  Class  \n",
       "0 -0.189115  0.133558 -0.021053  149.62      0  \n",
       "1  0.125895 -0.008983  0.014724    2.69      0  \n",
       "2 -0.139097 -0.055353 -0.059752  378.66      0  \n",
       "3 -0.221929  0.062723  0.061458  123.50      0  \n",
       "4  0.502292  0.219422  0.215153   69.99      0  \n",
       "\n",
       "[5 rows x 31 columns]"
      ]
     },
     "execution_count": 2,
     "metadata": {},
     "output_type": "execute_result"
    }
   ],
   "source": [
    "df = pd.read_csv(\"../input/creditcardfraud/creditcard.csv\")\n",
    "df.head()"
   ]
  },
  {
   "cell_type": "markdown",
   "id": "bed98529",
   "metadata": {
    "papermill": {
     "duration": 0.003765,
     "end_time": "2022-05-28T17:01:37.717630",
     "exception": false,
     "start_time": "2022-05-28T17:01:37.713865",
     "status": "completed"
    },
    "tags": []
   },
   "source": [
    "# Understanding the data set\n",
    "- Due to confidentiality issues many of the parameters cannot be names (V1-v28)\n",
    "- Time denotes the time since the first transaction in the dataset\n",
    "- Amount is the amount of the transaction\n",
    "- Class is whether the transaction is fraud or not (0 = Not Fraud, 1 = Fraud)\n",
    "## What percentage of the data is fraud?\n",
    "- We would expect only a small amount of the transactions to be fraud. We should check this is true for the dataset."
   ]
  },
  {
   "cell_type": "code",
   "execution_count": 3,
   "id": "3b0be94b",
   "metadata": {
    "execution": {
     "iopub.execute_input": "2022-05-28T17:01:37.727581Z",
     "iopub.status.busy": "2022-05-28T17:01:37.726636Z",
     "iopub.status.idle": "2022-05-28T17:01:37.740584Z",
     "shell.execute_reply": "2022-05-28T17:01:37.739424Z"
    },
    "papermill": {
     "duration": 0.021272,
     "end_time": "2022-05-28T17:01:37.742827",
     "exception": false,
     "start_time": "2022-05-28T17:01:37.721555",
     "status": "completed"
    },
    "tags": []
   },
   "outputs": [
    {
     "name": "stdout",
     "output_type": "stream",
     "text": [
      "None fraud = 284315, fraud = 492, Percentage fraud = 0.17304750013189596%\n"
     ]
    }
   ],
   "source": [
    "x = df[\"Class\"].value_counts()\n",
    "print(\"None fraud = {nf}, fraud = {f}, Percentage fraud = {pf}%\".format(nf=x[0], f=x[1], pf=(x[1]/x[0])*100))"
   ]
  },
  {
   "cell_type": "markdown",
   "id": "a58ec18b",
   "metadata": {
    "papermill": {
     "duration": 0.003685,
     "end_time": "2022-05-28T17:01:37.750647",
     "exception": false,
     "start_time": "2022-05-28T17:01:37.746962",
     "status": "completed"
    },
    "tags": []
   },
   "source": [
    "We see that fraudulent transactions make up less than 1% of events."
   ]
  },
  {
   "cell_type": "code",
   "execution_count": 4,
   "id": "76df28ec",
   "metadata": {
    "execution": {
     "iopub.execute_input": "2022-05-28T17:01:37.759725Z",
     "iopub.status.busy": "2022-05-28T17:01:37.759342Z",
     "iopub.status.idle": "2022-05-28T17:01:38.484397Z",
     "shell.execute_reply": "2022-05-28T17:01:38.483189Z"
    },
    "papermill": {
     "duration": 0.732703,
     "end_time": "2022-05-28T17:01:38.487223",
     "exception": false,
     "start_time": "2022-05-28T17:01:37.754520",
     "status": "completed"
    },
    "tags": []
   },
   "outputs": [
    {
     "data": {
      "image/png": "[encoded data removed]",
      "text/plain": [
       "<Figure size 432x288 with 1 Axes>"
      ]
     },
     "metadata": {
      "needs_background": "light"
     },
     "output_type": "display_data"
    }
   ],
   "source": [
    "df[\"Amount\"].plot.hist()\n",
    "plt.yscale(\"log\")\n",
    "plt.show()"
   ]
  },
  {
   "cell_type": "code",
   "execution_count": 5,
   "id": "e44402ff",
   "metadata": {
    "execution": {
     "iopub.execute_input": "2022-05-28T17:01:38.497700Z",
     "iopub.status.busy": "2022-05-28T17:01:38.497316Z",
     "iopub.status.idle": "2022-05-28T17:01:38.535681Z",
     "shell.execute_reply": "2022-05-28T17:01:38.534789Z"
    },
    "papermill": {
     "duration": 0.046568,
     "end_time": "2022-05-28T17:01:38.538289",
     "exception": false,
     "start_time": "2022-05-28T17:01:38.491721",
     "status": "completed"
    },
    "tags": []
   },
   "outputs": [
    {
     "name": "stdout",
     "output_type": "stream",
     "text": [
      "(284807, 30) (284807, 1)\n"
     ]
    }
   ],
   "source": [
    "X = df.iloc[:, df.columns != \"Class\"]\n",
    "y = df.iloc[:, df.columns == \"Class\"]\n",
    "print(X.shape, y.shape)"
   ]
  },
  {
   "cell_type": "code",
   "execution_count": 6,
   "id": "b3dad5bd",
   "metadata": {
    "execution": {
     "iopub.execute_input": "2022-05-28T17:01:38.548434Z",
     "iopub.status.busy": "2022-05-28T17:01:38.548070Z",
     "iopub.status.idle": "2022-05-28T17:01:39.503475Z",
     "shell.execute_reply": "2022-05-28T17:01:39.502066Z"
    },
    "papermill": {
     "duration": 0.963774,
     "end_time": "2022-05-28T17:01:39.506220",
     "exception": false,
     "start_time": "2022-05-28T17:01:38.542446",
     "status": "completed"
    },
    "tags": []
   },
   "outputs": [],
   "source": [
    "from sklearn.model_selection import train_test_split"
   ]
  },
  {
   "cell_type": "code",
   "execution_count": 7,
   "id": "47183b2c",
   "metadata": {
    "execution": {
     "iopub.execute_input": "2022-05-28T17:01:39.517989Z",
     "iopub.status.busy": "2022-05-28T17:01:39.516756Z",
     "iopub.status.idle": "2022-05-28T17:01:39.641920Z",
     "shell.execute_reply": "2022-05-28T17:01:39.640810Z"
    },
    "papermill": {
     "duration": 0.133488,
     "end_time": "2022-05-28T17:01:39.644329",
     "exception": false,
     "start_time": "2022-05-28T17:01:39.510841",
     "status": "completed"
    },
    "tags": []
   },
   "outputs": [],
   "source": [
    "X_train, X_test, y_train, y_test = train_test_split(X, y, test_size=0.3, random_state=42)"
   ]
  },
  {
   "cell_type": "code",
   "execution_count": 8,
   "id": "0fdcd564",
   "metadata": {
    "execution": {
     "iopub.execute_input": "2022-05-28T17:01:39.655094Z",
     "iopub.status.busy": "2022-05-28T17:01:39.654662Z",
     "iopub.status.idle": "2022-05-28T17:01:39.659099Z",
     "shell.execute_reply": "2022-05-28T17:01:39.658150Z"
    },
    "papermill": {
     "duration": 0.011865,
     "end_time": "2022-05-28T17:01:39.660872",
     "exception": false,
     "start_time": "2022-05-28T17:01:39.649007",
     "status": "completed"
    },
    "tags": []
   },
   "outputs": [],
   "source": [
    "from sklearn.preprocessing import StandardScaler"
   ]
  },
  {
   "cell_type": "code",
   "execution_count": 9,
   "id": "dc4d8e0e",
   "metadata": {
    "execution": {
     "iopub.execute_input": "2022-05-28T17:01:39.671400Z",
     "iopub.status.busy": "2022-05-28T17:01:39.670969Z",
     "iopub.status.idle": "2022-05-28T17:01:39.791241Z",
     "shell.execute_reply": "2022-05-28T17:01:39.790525Z"
    },
    "papermill": {
     "duration": 0.127999,
     "end_time": "2022-05-28T17:01:39.793392",
     "exception": false,
     "start_time": "2022-05-28T17:01:39.665393",
     "status": "completed"
    },
    "tags": []
   },
   "outputs": [],
   "source": [
    "scale_fit = StandardScaler().fit(X_train)\n",
    "X_train = scale_fit.transform(X_train)\n",
    "X_test = scale_fit.transform(X_test)"
   ]
  },
  {
   "cell_type": "markdown",
   "id": "d73c0918",
   "metadata": {
    "papermill": {
     "duration": 0.003918,
     "end_time": "2022-05-28T17:01:39.801713",
     "exception": false,
     "start_time": "2022-05-28T17:01:39.797795",
     "status": "completed"
    },
    "tags": []
   },
   "source": [
    "# Undersampling the data\n",
    "- As we have a large imbalance between the number of ligitimate transactions and the number of fraudulent transactions it will be beneficial to undersample the data.\n",
    "- This stops the model becoming to well trained on legitimate transactions and mitigates the amount of fraudulent events being missing\n",
    "- We only undersample the training data as in a real world example we expect the unseen data to be predominantly legitimate transactions"
   ]
  },
  {
   "cell_type": "code",
   "execution_count": 10,
   "id": "35f9ed24",
   "metadata": {
    "execution": {
     "iopub.execute_input": "2022-05-28T17:01:39.811893Z",
     "iopub.status.busy": "2022-05-28T17:01:39.811356Z",
     "iopub.status.idle": "2022-05-28T17:01:40.196903Z",
     "shell.execute_reply": "2022-05-28T17:01:40.195589Z"
    },
    "papermill": {
     "duration": 0.394073,
     "end_time": "2022-05-28T17:01:40.199978",
     "exception": false,
     "start_time": "2022-05-28T17:01:39.805905",
     "status": "completed"
    },
    "tags": []
   },
   "outputs": [
    {
     "name": "stdout",
     "output_type": "stream",
     "text": [
      "(712, 1)\n"
     ]
    }
   ],
   "source": [
    "from imblearn.under_sampling import RandomUnderSampler\n",
    "rus = RandomUnderSampler(random_state=0)\n",
    "\n",
    "X_resampled, y_resampled = rus.fit_resample(X_train, y_train)\n",
    "print(y_resampled.shape)\n"
   ]
  },
  {
   "cell_type": "markdown",
   "id": "2bd5d527",
   "metadata": {
    "papermill": {
     "duration": 0.004121,
     "end_time": "2022-05-28T17:01:40.209085",
     "exception": false,
     "start_time": "2022-05-28T17:01:40.204964",
     "status": "completed"
    },
    "tags": []
   },
   "source": [
    "We can see we now have an equal number of legitimate transactions and fraudulent transactions in our training set"
   ]
  },
  {
   "cell_type": "code",
   "execution_count": 11,
   "id": "7cc5ea6a",
   "metadata": {
    "execution": {
     "iopub.execute_input": "2022-05-28T17:01:40.220009Z",
     "iopub.status.busy": "2022-05-28T17:01:40.219094Z",
     "iopub.status.idle": "2022-05-28T17:01:43.164951Z",
     "shell.execute_reply": "2022-05-28T17:01:43.164069Z"
    },
    "papermill": {
     "duration": 2.954261,
     "end_time": "2022-05-28T17:01:43.167778",
     "exception": false,
     "start_time": "2022-05-28T17:01:40.213517",
     "status": "completed"
    },
    "tags": []
   },
   "outputs": [
    {
     "data": {
      "text/plain": [
       "0.9485294117647058"
      ]
     },
     "execution_count": 11,
     "metadata": {},
     "output_type": "execute_result"
    }
   ],
   "source": [
    "from sklearn.neural_network import MLPClassifier\n",
    "from sklearn.metrics import recall_score\n",
    "clf = MLPClassifier(hidden_layer_sizes=(200,), max_iter=10000, random_state=10).fit(X_resampled, y_resampled.values.ravel())\n",
    "y_pred = clf.predict(X_test)\n",
    "recall_acc = recall_score (y_test,y_pred)\n",
    "recall_acc "
   ]
  },
  {
   "cell_type": "code",
   "execution_count": null,
   "id": "255ad396",
   "metadata": {
    "papermill": {
     "duration": 0.008035,
     "end_time": "2022-05-28T17:01:43.184381",
     "exception": false,
     "start_time": "2022-05-28T17:01:43.176346",
     "status": "completed"
    },
    "tags": []
   },
   "outputs": [],
   "source": []
  },
  {
   "cell_type": "code",
   "execution_count": null,
   "id": "9670eda9",
   "metadata": {
    "papermill": {
     "duration": 0.007918,
     "end_time": "2022-05-28T17:01:43.200814",
     "exception": false,
     "start_time": "2022-05-28T17:01:43.192896",
     "status": "completed"
    },
    "tags": []
   },
   "outputs": [],
   "source": []
  }
 ],
 "metadata": {
  "kernelspec": {
   "display_name": "Python 3",
   "language": "python",
   "name": "python3"
  },
  "language_info": {
   "codemirror_mode": {
    "name": "ipython",
    "version": 3
   },
   "file_extension": ".py",
   "mimetype": "text/x-python",
   "name": "python",
   "nbconvert_exporter": "python",
   "pygments_lexer": "ipython3",
   "version": "3.7.12"
  },
  "papermill": {
   "default_parameters": {},
   "duration": 18.756792,
   "end_time": "2022-05-28T17:01:43.931864",
   "environment_variables": {},
   "exception": null,
   "input_path": "__notebook__.ipynb",
   "output_path": "__notebook__.ipynb",
   "parameters": {},
   "start_time": "2022-05-28T17:01:25.175072",
   "version": "2.3.4"
  }
 },
 "nbformat": 4,
 "nbformat_minor": 5
}
